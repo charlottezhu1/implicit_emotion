{
 "cells": [
  {
   "cell_type": "markdown",
   "id": "1fece9fd",
   "metadata": {},
   "source": [
    "This file attempts to do all the calculation done before on the control_group too.\n",
    "\n",
    "Specifically, it will work on correlation and regression results of all controlled group participants."
   ]
  },
  {
   "cell_type": "markdown",
   "id": "204f306d",
   "metadata": {},
   "source": [
    "First, figure out who are in the control group, and how much data do we have for that."
   ]
  },
  {
   "cell_type": "markdown",
   "id": "09ee3184",
   "metadata": {},
   "source": [
    "The four csv files in the csvs/aggregation_data (1tweetBefore, 1hourAverage, 1hourExponential, 1hourMax) should all have the control group information. "
   ]
  },
  {
   "cell_type": "code",
   "execution_count": 24,
   "id": "051da99a",
   "metadata": {},
   "outputs": [],
   "source": [
    "import pandas"
   ]
  },
  {
   "cell_type": "code",
   "execution_count": 28,
   "id": "ed7e22a6",
   "metadata": {},
   "outputs": [
    {
     "name": "stdout",
     "output_type": "stream",
     "text": [
      "Number of rows in control group for 1tweetBefore: 3334\n",
      "Number of rows in control group for 1hourAverage: 3934\n",
      "Number of rows in control group for 1hourExponential: 3934\n",
      "Number of rows in control group for 1hourMax: 3934\n"
     ]
    }
   ],
   "source": [
    "# how many rows are in the control group for 1 tweetBefore, 1hourAverage, 1hourExponential, 1hourMax\n",
    "df = pd.read_csv('../csvs/aggregation_data/1tweetBefore.csv')\n",
    "print(f\"Number of rows in control group for 1tweetBefore: {len(df[df['user_condition'] == 'I_C'])}\")\n",
    "df = pd.read_csv('../csvs/aggregation_data/1hourAverage.csv')\n",
    "print(f\"Number of rows in control group for 1hourAverage: {len(df[df['user_condition'] == 'I_C'])}\")\n",
    "df = pd.read_csv('../csvs/aggregation_data/1hourExponential.csv')\n",
    "print(f\"Number of rows in control group for 1hourExponential: {len(df[df['user_condition'] == 'I_C'])}\")\n",
    "df = pd.read_csv('../csvs/aggregation_data/1hourMax.csv')\n",
    "print(f\"Number of rows in control group for 1hourMax: {len(df[df['user_condition'] == 'I_C'])}\")"
   ]
  },
  {
   "cell_type": "code",
   "execution_count": null,
   "id": "64b2b9df",
   "metadata": {},
   "outputs": [],
   "source": []
  }
 ],
 "metadata": {
  "kernelspec": {
   "display_name": "implied",
   "language": "python",
   "name": "python3"
  },
  "language_info": {
   "codemirror_mode": {
    "name": "ipython",
    "version": 3
   },
   "file_extension": ".py",
   "mimetype": "text/x-python",
   "name": "python",
   "nbconvert_exporter": "python",
   "pygments_lexer": "ipython3",
   "version": "3.12.7"
  }
 },
 "nbformat": 4,
 "nbformat_minor": 5
}
